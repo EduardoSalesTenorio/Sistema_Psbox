{
  "cells": [
    {
      "cell_type": "markdown",
      "metadata": {
        "id": "view-in-github",
        "colab_type": "text"
      },
      "source": [
        "<a href=\"https://colab.research.google.com/github/EduardoSalesTenorio/Sistema_Psbox/blob/main/Sistema_Psbox.ipynb\" target=\"_parent\"><img src=\"https://colab.research.google.com/assets/colab-badge.svg\" alt=\"Open In Colab\"/></a>"
      ]
    },
    {
      "cell_type": "code",
      "execution_count": null,
      "metadata": {
        "id": "3y_16QBjKB9B"
      },
      "outputs": [],
      "source": [
        "#@title Programa Principala1\n",
        "LOGADO = False\n",
        "\n",
        "escolhaEntrada()"
      ]
    },
    {
      "cell_type": "code",
      "source": [
        "#@title Texto de título padrão\n",
        "def salvarRelatorio(nomeJogo, cartaoAtual, dinheiroAtual,pixAtual):\n",
        "  valor = valorJogo(nomeJogo)\n",
        "\n",
        "\n",
        "  if nomeJogo in nomeCadastradosRelatorio():\n",
        "\n",
        "    linhas = carregarRelatorio()\n",
        "\n",
        "    for i, linha in enumerate(linhas):\n",
        "      nome,cartao,dinheiro,pix,valorTotal = linha.strip().split(\",\")\n",
        "\n",
        "      if nome == nomeJogo:\n",
        "        linhas[i] = f\"{nomeJogo}, {int(cartaoAtual) + int(cartao)}, {int(dinheiroAtual) + int(dinheiro)}, {int(pixAtual) + int(pix)}, {float(valorTotal) + float(valorJogo(nomeJogo))}\\n\"\n",
        "\n",
        "        with open(\"/content/drive/MyDrive/aarquivos/RELATORIO.txt\", \"w\") as arquivo:\n",
        "          arquivo.writelines(linhas)\n",
        "\n",
        "  else:\n",
        "    with open(\"/content/drive/MyDrive/aarquivos/RELATORIO.txt\", \"a\") as arquivos:\n",
        "      arquivos.write(f\"{nomeJogo}, {cartaoAtual}, {dinheiroAtual}, {pixAtual}, {valorJogo(nomeJogo)}\\n\")"
      ],
      "metadata": {
        "id": "CXV0RsE9fbir"
      },
      "execution_count": null,
      "outputs": []
    },
    {
      "cell_type": "code",
      "source": [
        "#@title Texto de título padrão\n",
        "def nomeCadastradosRelatorio():\n",
        "  with open(\"/content/drive/MyDrive/aarquivos/RELATORIO.txt\", \"r\") as arquivos:\n",
        "      linhas = arquivos.readlines()\n",
        "\n",
        "  #linhas = carregarArquivo() #carregando todos os arquivos para ver se o codigo já assiste\n",
        "  nomes = []\n",
        "\n",
        "  for linha in linhas:\n",
        "    nome = linha.strip().split(\",\")[0] #Populando variaveis com os dados\n",
        "    nomes.append(nome.strip())\n",
        "\n",
        "  return nomes"
      ],
      "metadata": {
        "id": "KSskBOanwT9U"
      },
      "execution_count": null,
      "outputs": []
    },
    {
      "cell_type": "code",
      "source": [
        "def carregarRelatorio():\n",
        "  with open(\"/content/drive/MyDrive/aarquivos/RELATORIO.txt\", \"r\") as arquivos:\n",
        "    linhas = arquivos.readlines()\n",
        "\n",
        "  return linhas\n"
      ],
      "metadata": {
        "id": "PHQ5dD-DvtW2"
      },
      "execution_count": null,
      "outputs": []
    },
    {
      "cell_type": "code",
      "source": [
        "def editarJogo():\n",
        "\n",
        "  print(\"Editando jogos\\n\")\n",
        "  mostrar()\n",
        "\n",
        "  escolha = str(input(\"Digite o nome do Jogo para editar: \")).upper()\n",
        "\n",
        "  while escolha not in nomeCadastrados():\n",
        "    escolha = str(input(\"Jogo não encontrado, digite novamente: \")).upper()\n",
        "\n",
        "  linhas = carregarJogos()\n",
        "\n",
        "  for i, linha in enumerate(linhas):\n",
        "    nome, anoLancamento, valor, categoria = linha.strip().split(\",\")\n",
        "\n",
        "    if nome == escolha:\n",
        "      linhas[i] = salvarJogo(escolha, False)\n",
        "\n",
        "      if confirmacao(escolha, \"editar\"):\n",
        "        with open(\"/content/drive/MyDrive/aarquivos/JOGOS.txt\", \"w\") as arquivo:\n",
        "            arquivo.writelines(linhas)\n",
        "        print(\"Jogo Atualizado com Sucesso!\\n\")\n",
        "      else:\n",
        "        print(\"Voltando\\n\")"
      ],
      "metadata": {
        "id": "urre_lFzI_7e"
      },
      "execution_count": null,
      "outputs": []
    },
    {
      "cell_type": "code",
      "source": [
        "def verRelatorio():\n",
        "  print(\"\\nMostrando Relatorio\")\n",
        "\n",
        "  with open(\"/content/drive/MyDrive/aarquivos/RELATORIO.txt\", \"r\") as arquivo:\n",
        "    for i in arquivo:\n",
        "      nome, cartao, dinheiro, pix, valorTotal = i.strip().split(\",\")\n",
        "      print(f\"{nome}, V.Cartão: {cartao}, V.Dinheiro: {dinheiro}, V.PIX: {pix}, QTD. Vendas: {int(cartao) + int(dinheiro) + int(pix)}, Total R$ {valorTotal}\")\n",
        "\n",
        "print(\"\\n\")"
      ],
      "metadata": {
        "colab": {
          "base_uri": "https://localhost:8080/"
        },
        "id": "lZvzx-2xfbR9",
        "outputId": "83d668dc-cc84-4199-cbb9-7c2af0416706"
      },
      "execution_count": null,
      "outputs": [
        {
          "output_type": "stream",
          "name": "stdout",
          "text": [
            "\n",
            "\n"
          ]
        }
      ]
    },
    {
      "cell_type": "code",
      "execution_count": null,
      "metadata": {
        "id": "xJc0zTDrQp3F"
      },
      "outputs": [],
      "source": [
        "def comprar():\n",
        "  mostrar()\n",
        "\n",
        "  nomeJogo = input(\"Qual jogo deseja comprar: \").upper()\n",
        "\n",
        "  while nomeJogo not in nomeCadastrados():\n",
        "    nomeJogo = str(input(\"Informe novamente o nome do jogo: \")).upper()\n",
        "\n",
        "  print(f\"{nomeJogo} esta custando {valorJogo(nomeJogo)}\")\n",
        "\n",
        "  if confirmacao(nomeJogo, \"comprar\"):\n",
        "    forma_pagamento(nomeJogo)\n",
        "\n",
        "  else:\n",
        "    print(\"Voltando.\\n\")"
      ]
    },
    {
      "cell_type": "code",
      "execution_count": null,
      "metadata": {
        "id": "-rkO8_6gSugC"
      },
      "outputs": [],
      "source": [
        "def forma_pagamento(nomeJogo):\n",
        "  print(\"\"\"\n",
        "  Formas de pagamento:\n",
        "  1) Cartão\n",
        "  2) Dinheiro\n",
        "  3) PIX\n",
        "        \"\"\")\n",
        "\n",
        "  while(True):\n",
        "    opcao = int(input(\"Qual será a forma de pagamento: \"))\n",
        "\n",
        "    if (opcao == 1):\n",
        "      print(\"Favor informar dados do cartão\")\n",
        "      salvarRelatorio(nomeJogo,1,0,0)\n",
        "      break\n",
        "\n",
        "    elif (opcao == 2):\n",
        "      pagamento_dinheiro(nomeJogo)\n",
        "      break\n",
        "\n",
        "    elif (opcao == 3):\n",
        "      print(f\"Faça um PIX de {valorJogo(nomeJogo)} para (87)9.9999-9999\")\n",
        "      salvarRelatorio(nomeJogo,0,0,1)\n",
        "      break\n",
        "\n",
        "    else:\n",
        "      print(\"Opção invalida\\n\")\n",
        "\n",
        "  print(f\"\"\"\n",
        "  Compra realizada com sucesso!\n",
        "  Você acada de adquirir {nomeJogo} por apenas {valorJogo(nomeJogo)}\n",
        "  \"\"\")\n",
        "  menu_user()"
      ]
    },
    {
      "cell_type": "code",
      "source": [
        "def valorJogo(nomeJogo):\n",
        "  with open(\"/content/drive/MyDrive/aarquivos/JOGOS.txt\", \"r\") as arquivos:\n",
        "    for i in arquivos:\n",
        "      nome, anoLancamento, valor, categoria = i.strip().split(\",\")\n",
        "      if nomeJogo == nome:\n",
        "        return valor"
      ],
      "metadata": {
        "id": "ov6FrDLnT6bh"
      },
      "execution_count": null,
      "outputs": []
    },
    {
      "cell_type": "code",
      "execution_count": null,
      "metadata": {
        "id": "BBy6iMTgURi5"
      },
      "outputs": [],
      "source": [
        "def pagamento_dinheiro(nomeJogo):\n",
        "\n",
        "  while(True):\n",
        "    dinheiro = float(input(\"Digite dinheiro do cliente: \"))\n",
        "\n",
        "    if dinheiro >= float(valorJogo(nomeJogo)):\n",
        "      print(f\"O seu troco é de: {dinheiro - float(valorJogo(nomeJogo))}\")\n",
        "      salvarRelatorio(nomeJogo,0,1,0)\n",
        "      break\n",
        "    else:\n",
        "      print(\"Dinheiro insucifiente!\")"
      ]
    },
    {
      "cell_type": "code",
      "execution_count": null,
      "metadata": {
        "id": "b8t9NwSqZvgt"
      },
      "outputs": [],
      "source": [
        "def mostrar():\n",
        "    #NOME JOGO (ANO LANC) - R$ VALOR - Categoria\n",
        "    print(\"\\nMostrando Jogos cadastrados\")\n",
        "    with open(\"/content/drive/MyDrive/aarquivos/JOGOS.txt\", \"r\") as arquivos:\n",
        "      for i in arquivos:\n",
        "        nome, anoLancamento, valor, categoria = i.strip().split(\",\")\n",
        "        print(f\"Nome: {nome}, Lançamento {anoLancamento}, R$ {valor}, Categoria {categoria}\")\n",
        "\n",
        "    print(\"\\n\")"
      ]
    },
    {
      "cell_type": "code",
      "execution_count": null,
      "metadata": {
        "id": "BvpWHOxuZXl9"
      },
      "outputs": [],
      "source": [
        "def cadastrarJogo():\n",
        "    print(\"\\nCadastrando novo jogo\")\n",
        "    nomeAtual = str(input(\"Informe o nome do jogo: \")).upper()\n",
        "\n",
        "    while nomeAtual in nomeCadastrados():\n",
        "     nomeAtual = str(input(\"Informe novamente o nome do jogo: \")).upper()\n",
        "\n",
        "    salvarJogo(nomeAtual, True)"
      ]
    },
    {
      "cell_type": "code",
      "execution_count": null,
      "metadata": {
        "id": "iiQGc60-ZBDs"
      },
      "outputs": [],
      "source": [
        "def remover():\n",
        "  print(\"\\nRemovendo jogo\")\n",
        "  mostrar()\n",
        "  jogoAserRemovido = str(input(\"Informe o jogo a ser removido: \")).upper()\n",
        "\n",
        "  while jogoAserRemovido not in nomeCadastrados():\n",
        "    jogoAserRemovido = str(input(\"Informe, novamente, o jogo a ser removido: \"))\n",
        "\n",
        "  linhas = carregarJogos()\n",
        "  for i, linha in enumerate(linhas):\n",
        "    nome, anoLancamento, valor, categoria = linha.strip().split(\",\")\n",
        "\n",
        "    if str(nome) == str(jogoAserRemovido):\n",
        "      del linhas[i]\n",
        "\n",
        "    if confirmacao(jogoAserRemovido, \"excluir\"):\n",
        "      with open(\"/content/drive/MyDrive/aarquivos/JOGOS.txt\", \"w\") as arquivo:\n",
        "        arquivo.writelines(linhas)\n",
        "      print(f\"O jogo {jogoAserRemovido}, foi removido com sucesso.\\n\")\n",
        "\n",
        "    else:\n",
        "      print(\"Voltando.\\n\")\n",
        "      break"
      ]
    },
    {
      "cell_type": "code",
      "source": [
        "def confirmacao(jogo, tipo):\n",
        "\n",
        "    print(f\"\"\"\n",
        "    Realmente deseja {tipo} o jogo {jogo}\n",
        "    1) Sim\n",
        "    2) Não\n",
        "    \"\"\")\n",
        "    escolha = int(input(\"\"))\n",
        "\n",
        "    if escolha == 1: return True; False"
      ],
      "metadata": {
        "id": "RpsF3g1N-yKF"
      },
      "execution_count": null,
      "outputs": []
    },
    {
      "cell_type": "code",
      "source": [
        "def carregarJogos():\n",
        "   with open(\"/content/drive/MyDrive/aarquivos/JOGOS.txt\", \"r\") as arquivos:\n",
        "    linhas = arquivos.readlines()\n",
        "\n",
        "    return linhas"
      ],
      "metadata": {
        "id": "xr5sfth1BF9z"
      },
      "execution_count": null,
      "outputs": []
    },
    {
      "cell_type": "code",
      "source": [
        "def nomeExistente(nome):\n",
        "\n",
        "  print(f\"\"\"\n",
        "  O nome do jogo já existe.\n",
        "  deseja editar o jogo {nome}\n",
        "  1 - Sim\n",
        "  2 - Não\n",
        "  \"\"\")\n",
        "  while True:\n",
        "    escolha = int(input(\"Qual opção: \"))\n",
        "    if escolha == 1:\n",
        "      return True\n",
        "    elif escolha == 2:\n",
        "      return False\n",
        "    else:\n",
        "      print(\"Não entendi\")"
      ],
      "metadata": {
        "id": "qpmHhR4FB43H"
      },
      "execution_count": null,
      "outputs": []
    },
    {
      "cell_type": "code",
      "execution_count": null,
      "metadata": {
        "id": "iwgClraZOkfA"
      },
      "outputs": [],
      "source": [
        "def login_user(nome):\n",
        "  print(f\"Olá, {nome}, tudo bem?\")\n",
        "  menu_user()\n",
        "  logado_user()\n"
      ]
    },
    {
      "cell_type": "code",
      "execution_count": null,
      "metadata": {
        "id": "eYXjOhr5QGYR"
      },
      "outputs": [],
      "source": [
        "def logado_user():\n",
        "  while (True):\n",
        "    opcao = int(input(\"Informe uma opção: \"))\n",
        "    if (opcao == 0):\n",
        "      menu_user()\n",
        "    elif (opcao == 1):\n",
        "      mostrar()\n",
        "    elif (opcao == 2):\n",
        "      comprar()\n",
        "    elif (opcao == 3):\n",
        "      print(\"\\n\\n\")\n",
        "      print(\"Encerrando o programa...\")\n",
        "      break\n",
        "    else:\n",
        "      print(\"Opção inválida\\n\")"
      ]
    },
    {
      "cell_type": "code",
      "source": [
        "def nomeCadastrados():\n",
        "  with open(\"/content/drive/MyDrive/aarquivos/JOGOS.txt\", \"r\") as arquivos:\n",
        "      linhas = arquivos.readlines()\n",
        "\n",
        "  #linhas = carregarArquivo() #carregando todos os arquivos para ver se o codigo já assiste\n",
        "  nomes = []\n",
        "\n",
        "  for linha in linhas:\n",
        "    nome = linha.strip().split(\",\")[0] #Populando variaveis com os dados\n",
        "    nomes.append(nome.strip())\n",
        "\n",
        "  return nomes"
      ],
      "metadata": {
        "id": "1axe2CQ1Cno3"
      },
      "execution_count": null,
      "outputs": []
    },
    {
      "cell_type": "code",
      "execution_count": null,
      "metadata": {
        "id": "quALxJcNPsrB"
      },
      "outputs": [],
      "source": [
        "def menu_user():\n",
        "   print('''\n",
        "    0) Menu\n",
        "    1) Ver Jogo\n",
        "    2) Comprar Jogo\n",
        "    3) Sair\n",
        "    ''')"
      ]
    },
    {
      "cell_type": "code",
      "execution_count": null,
      "metadata": {
        "id": "2exM0pnvIyBv"
      },
      "outputs": [],
      "source": [
        "def login_adm():\n",
        "\n",
        "  USUARIOS = {\"EDUARDO\": \"1234\", \"ADM\": \"adm\"}\n",
        "\n",
        "  while (True):\n",
        "    user = str(input(\"Informe o Login: \")).upper()\n",
        "    senha = str(input(\"Informe a senha: \"))\n",
        "\n",
        "    if user in USUARIOS and senha == USUARIOS[user]:\n",
        "      print(f\"\\n\\n\\nBem vindo(a) {user}!\\n\\n\")\n",
        "      menu()\n",
        "\n",
        "      LOGADO = True\n",
        "      return True\n",
        "      break\n",
        "    else:\n",
        "      print(\"Senha incorreta\")"
      ]
    },
    {
      "cell_type": "code",
      "source": [
        "def salvarJogo(nomeAtual, cadastro):\n",
        "\n",
        "  while True:\n",
        "    try:\n",
        "      anoLancamento = int(input(\"Digite o ano de lançamento: \"))\n",
        "      break\n",
        "    except ValueError:\n",
        "      print(\"Valor invalido, digite novamente\")\n",
        "\n",
        "    #Loop para verificar caso o usuario digite um tipo invalido\n",
        "  while True:\n",
        "    try:\n",
        "      valor = float(input(\"Digite Valor: \"))\n",
        "      break\n",
        "    except ValueError:\n",
        "      print(\"Valor invalido, digite novamente\")\n",
        "\n",
        "  categoria = str(input(\"Digite a categoria do Jogo: \")).upper()\n",
        "\n",
        "  if cadastro: #Entra aqui se for para criar um novo cadastro de produto\n",
        "    with open(\"/content/drive/MyDrive/aarquivos/JOGOS.txt\", \"a\") as arquivos:\n",
        "      arquivos.write(f\"{nomeAtual}, {anoLancamento}, {valor}, {categoria}\\n\")\n",
        "      print(\"Adicionado com sucesso.\\n\")\n",
        "\n",
        "  else:\n",
        "    return f\"{nomeAtual}, {anoLancamento}, {valor}, {categoria}\\n\""
      ],
      "metadata": {
        "id": "dOcMKvPvMAnp"
      },
      "execution_count": null,
      "outputs": []
    },
    {
      "cell_type": "code",
      "execution_count": null,
      "metadata": {
        "id": "fKhV3X-AYkAF"
      },
      "outputs": [],
      "source": [
        "def menu():\n",
        "   print('''\n",
        "    0) Menu\n",
        "    1) Cadastrar Jogo\n",
        "    2) Remover Jogo\n",
        "    3) Mostrar Jogos\n",
        "    4) Editar Jogos\n",
        "    5) Relatorio\n",
        "    6) Sair\n",
        "    ''')"
      ]
    },
    {
      "cell_type": "code",
      "execution_count": null,
      "metadata": {
        "id": "aqjtqLMkNmEQ"
      },
      "outputs": [],
      "source": [
        "def logado():\n",
        "  while (True):\n",
        "    opcao = int(input(\"Informe uma opção: \"))\n",
        "    if (opcao == 0):\n",
        "      menu()\n",
        "\n",
        "    elif (opcao == 1):\n",
        "      cadastrarJogo()\n",
        "\n",
        "    elif (opcao == 2):\n",
        "      remover()\n",
        "\n",
        "    elif (opcao == 3):\n",
        "      mostrar()\n",
        "\n",
        "    elif (opcao == 4):\n",
        "      editarJogo()\n",
        "\n",
        "    elif (opcao == 5):\n",
        "      verRelatorio()\n",
        "\n",
        "    elif (opcao == 6):\n",
        "      print(\"\\n\\n\")\n",
        "      print(\"Encerrando o programa...\")\n",
        "      break\n",
        "    else:\n",
        "      print(\"Opção inválida\\n\")"
      ]
    },
    {
      "cell_type": "code",
      "source": [
        "def escolhaEntrada():\n",
        "  print(\"\"\"\n",
        "  Login será:\n",
        "  1) Usuario normal\n",
        "  2) ADM\n",
        "   \"\"\")\n",
        "\n",
        "  while True:\n",
        "    escolha = str(input(\"Escolha uma opção: \"))\n",
        "\n",
        "    if escolha == \"1\":\n",
        "      nome = input(\"Digite o seu nome: \")\n",
        "      login_user(nome)\n",
        "      break\n",
        "\n",
        "    elif escolha == \"2\":\n",
        "      if login_adm():\n",
        "        logado()\n",
        "      break\n",
        "\n",
        "    else:\n",
        "      print(\"Não entendi, digite novamente:\")"
      ],
      "metadata": {
        "id": "ZmQ-x5vO-M4F"
      },
      "execution_count": null,
      "outputs": []
    }
  ],
  "metadata": {
    "colab": {
      "provenance": [],
      "include_colab_link": true
    },
    "kernelspec": {
      "display_name": "Python 3",
      "name": "python3"
    },
    "language_info": {
      "name": "python"
    }
  },
  "nbformat": 4,
  "nbformat_minor": 0
}